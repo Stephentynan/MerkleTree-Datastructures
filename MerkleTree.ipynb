{
 "cells": [
  {
   "cell_type": "markdown",
   "id": "1a5ef558-88a0-420a-94fb-d5446c1c5509",
   "metadata": {},
   "source": [
    "# Implementation"
   ]
  },
  {
   "cell_type": "code",
   "execution_count": 1,
   "id": "0389f0cc-9e99-4802-bf20-c0280bb982dc",
   "metadata": {},
   "outputs": [],
   "source": [
    "import hashlib\n",
    "from typing import List"
   ]
  },
  {
   "cell_type": "code",
   "execution_count": 2,
   "id": "542bd27c-64db-43f8-938d-4e353a5575d3",
   "metadata": {
    "tags": []
   },
   "outputs": [],
   "source": [
    "class MerkleNode:\n",
    "    def __init__(self, left, right, encoded:str, data:str):\n",
    "        self.left: MerkleNode = left\n",
    "        self.right: MerkleNode = right\n",
    "        self.encoded= encoded\n",
    "        self.data = data\n",
    "    def enc(data:str)->str:\n",
    "        return hashlib.sha256(data.encode('utf-8')).hexdigest()\n",
    "     "
   ]
  },
  {
   "cell_type": "code",
   "execution_count": 3,
   "id": "566349b8-2b04-4c9c-9ac1-a553803c7928",
   "metadata": {},
   "outputs": [],
   "source": [
    "class MerkleTree:\n",
    "    def __init__(self, elems: List[str]):\n",
    "        leaves =[MerkleNode( None, None, MerkleNode.enc(elem), elem) for elem in elems]\n",
    "        i=1\n",
    "        while(len(leaves)%2!=0 or i!=1): #Check even, Check Multiple of 2, requirements to build Merkle\n",
    "            leaves.append(leaves[-1]) #copies last node idefinitley to fill\n",
    "            i=len(leaves)\n",
    "            while(i%2==0):\n",
    "                i=i//2\n",
    "        self.root: MerkleNode = self.buildMerkle(leaves)\n",
    "    def buildMerkle(self, nodes: List[MerkleNode])->MerkleNode:\n",
    "        if len(nodes)==2: #handles case where there are exactly 2 nodes.\n",
    "            return MerkleNode(nodes[0], nodes[1], MerkleNode.enc(nodes[0].encoded+nodes[1].encoded),nodes[0].data+\"+\"+nodes[1].data)\n",
    "        half = len(nodes) //2 #where to split\n",
    "        right: MerkleNode = self.buildMerkle(nodes[half:])#split and recursive right\n",
    "        left: MerkleNode = self.buildMerkle(nodes[:half])#split and recursive left\n",
    "        return MerkleNode(left,right,MerkleNode.enc(left.encoded+right.encoded),left.data+\"+\"+right.data) #return root\n",
    "    def treeNode(self)-> MerkleNode: #returns path to MerkleTree.root, for easier navigation\n",
    "        return self.root\n",
    "    \n",
    "        "
   ]
  },
  {
   "cell_type": "code",
   "execution_count": 6,
   "id": "50b6ffb6-1c56-4510-bbb8-037b8fc63f34",
   "metadata": {},
   "outputs": [],
   "source": [
    "import graphviz\n",
    "def vizMerkleTreeEncoded(root: MerkleTree):\n",
    "    d = graphviz.Digraph()\n",
    "    d.node(str(root.encoded))\n",
    "    \n",
    "    def edges(node: MerkleNode):\n",
    "        if node.left:\n",
    "            d.node(str(node.left.encoded))\n",
    "            d.edge(str(node.encoded),str(node.left.encoded))\n",
    "            edges(node.left)\n",
    "        if node.right:\n",
    "            d.node(str(node.right.encoded))\n",
    "            d.edge(str(node.encoded),str(node.right.encoded))\n",
    "            edges(node.right)\n",
    "    edges(root)\n",
    "    d.render('Merkle_Tree_Encoded', view=True, format = 'png')\n",
    "def vizMerkleTreeDecoded(root: MerkleTree):\n",
    "    d = graphviz.Digraph()\n",
    "    d.node(str(root.data))\n",
    "    def edges(node: MerkleNode):\n",
    "        if node.left:\n",
    "            d.node(str(node.left.data))\n",
    "            d.edge(str(node.data),str(node.left.data))\n",
    "            edges(node.left)\n",
    "        if node.right:\n",
    "            d.node(str(node.right.data))\n",
    "            d.edge(str(node.data),str(node.right.data))\n",
    "            edges(node.right)\n",
    "    edges(root)\n",
    "    d.render('Merkle_Tree_Decoded', view=True, format = 'png')\n",
    "def vizMerkleTreeBoth(root: MerkleTree):\n",
    "    d = graphviz.Digraph()\n",
    "    d.node(str(root.encoded+\"=\"+root.data))\n",
    "    def edges(node: MerkleNode):\n",
    "        if node.left:\n",
    "            d.node(str(node.left.encoded+\"=\"+node.left.data))\n",
    "            d.edge(str(node.encoded+\"=\"+node.data),str(node.left.encoded+\"=\"+node.left.data))\n",
    "            edges(node.left)\n",
    "        if node.right:\n",
    "            d.node(str(node.right.encoded+\"=\"+node.right.data))\n",
    "            d.edge(str(node.encoded+\"=\"+node.data),str(node.right.encoded+\"=\"+node.right.data))\n",
    "            edges(node.right)\n",
    "    edges(root)\n",
    "    d.render('Merkle_Tree_Both', view=True, format = 'png')            "
   ]
  },
  {
   "cell_type": "code",
   "execution_count": 7,
   "id": "2d5554c4-5e14-4f70-a176-7a2ab3cfaf08",
   "metadata": {},
   "outputs": [],
   "source": [
    "def Input(prompt): #define input take indefinite number strings until empty, build list from strings\n",
    "    values =[]\n",
    "    value = input(prompt)\n",
    "    if value:\n",
    "        values.append(value)\n",
    "    while value:\n",
    "        value = input(prompt)\n",
    "        if value:\n",
    "            values.append(value)\n",
    "    return values\n",
    "\n",
    "    "
   ]
  },
  {
   "cell_type": "markdown",
   "id": "b81782ca-f9d8-48e6-9417-0032b0dfd29b",
   "metadata": {},
   "source": [
    "# Code Interface Below. \n",
    "Build and Vizualize a merkle tree from user inputs"
   ]
  },
  {
   "cell_type": "code",
   "execution_count": null,
   "id": "92594085-861c-47d6-a8c2-6105ebafd6bd",
   "metadata": {},
   "outputs": [],
   "source": [
    "values = Input(\"Enter Elements, space to stop\")"
   ]
  },
  {
   "cell_type": "code",
   "execution_count": null,
   "id": "c707eda2-7bfa-41d2-9ea7-3610b8c32cbb",
   "metadata": {},
   "outputs": [],
   "source": [
    "m = MerkleTree(values) #buildtree\n",
    "x = m.treeNode() #return Node at root\n"
   ]
  },
  {
   "cell_type": "code",
   "execution_count": null,
   "id": "02c67d59-3d01-49e5-903c-e91590cb8aa0",
   "metadata": {},
   "outputs": [],
   "source": [
    "vizMerkleTreeEncoded(x) #create png of Merkle tree, ignore errors, needed joyvan password to install application to set default-web-browser xdg-settings\n",
    "vizMerkleTreeDecoded(x)\n",
    "vizMerkleTreeBoth(x)"
   ]
  },
  {
   "cell_type": "code",
   "execution_count": null,
   "id": "4d24672e-0b35-47cc-b114-7e6568583880",
   "metadata": {},
   "outputs": [],
   "source": [
    "from PIL import Image\n",
    "from IPython.display import display\n",
    "Image.open('Merkle_Tree_Encoded.png')"
   ]
  },
  {
   "cell_type": "code",
   "execution_count": null,
   "id": "5e1734a1-99cf-4811-9141-1857c51fa3df",
   "metadata": {},
   "outputs": [],
   "source": [
    "Image.open('Merkle_Tree_Decoded.png')"
   ]
  },
  {
   "cell_type": "code",
   "execution_count": null,
   "id": "4560494c-1653-4812-86b0-54d578379994",
   "metadata": {},
   "outputs": [],
   "source": [
    "Image.open('Merkle_Tree_Both.png')\n"
   ]
  },
  {
   "cell_type": "code",
   "execution_count": null,
   "id": "daa42735-ef6b-49a0-9afb-f0f6a7d28bc2",
   "metadata": {},
   "outputs": [],
   "source": []
  }
 ],
 "metadata": {
  "kernelspec": {
   "display_name": "Python 3 (ipykernel)",
   "language": "python",
   "name": "python3"
  },
  "language_info": {
   "codemirror_mode": {
    "name": "ipython",
    "version": 3
   },
   "file_extension": ".py",
   "mimetype": "text/x-python",
   "name": "python",
   "nbconvert_exporter": "python",
   "pygments_lexer": "ipython3",
   "version": "3.10.8"
  }
 },
 "nbformat": 4,
 "nbformat_minor": 5
}
